{
  "cells": [
    {
      "cell_type": "markdown",
      "metadata": {
        "id": "UWiPWcWBYbB9"
      },
      "source": [
        "# Fine Tuning of ResNet50\n",
        "\n",
        "We want to fine-tune ResNet50 to classify pictorial genres.\n",
        "\n",
        "We then want to save the model."
      ]
    },
    {
      "cell_type": "markdown",
      "metadata": {
        "id": "A1lQNfBpXt6I"
      },
      "source": [
        "## Libraries"
      ]
    },
    {
      "cell_type": "code",
      "execution_count": null,
      "metadata": {
        "colab": {
          "base_uri": "https://localhost:8080/"
        },
        "id": "LzvyKaarSSOk",
        "outputId": "6d9a2e57-1bbe-4eb6-d5ca-676d1240bddd"
      },
      "outputs": [],
      "source": [
        "!pip install tensorflow-addons"
      ]
    },
    {
      "cell_type": "code",
      "execution_count": null,
      "metadata": {
        "id": "m-vFl7xrSVwx"
      },
      "outputs": [],
      "source": [
        "import tensorflow_addons as tfa"
      ]
    },
    {
      "cell_type": "code",
      "execution_count": null,
      "metadata": {
        "id": "UjvsG3FvA7nx"
      },
      "outputs": [],
      "source": [
        "from tensorflow.keras.models import Model\n",
        "from keras.applications.resnet import ResNet50 \n",
        "from keras.applications.resnet import preprocess_input as preprocess_input_resnet\n",
        "from tensorflow.keras.preprocessing import image as image_resnet\n",
        "\n",
        "\n",
        "import tensorflow as tf\n",
        "from keras.layers import *\n",
        "import keras\n",
        "\n",
        "from tensorflow.keras.preprocessing.image import ImageDataGenerator"
      ]
    },
    {
      "cell_type": "code",
      "execution_count": null,
      "metadata": {
        "id": "VT2vh22hXsig"
      },
      "outputs": [],
      "source": [
        "import numpy as np\n",
        "import pandas as pd\n",
        "import cv2 as cv\n",
        "\n",
        "import matplotlib.pyplot as plt\n",
        "import matplotlib.image as mpimg\n",
        "from PIL import Image\n",
        "import os\n",
        "\n",
        "import itertools\n",
        "\n",
        "from IPython.display import clear_output"
      ]
    },
    {
      "cell_type": "markdown",
      "metadata": {
        "id": "foJFcucihIuZ"
      },
      "source": [
        "## Setup"
      ]
    },
    {
      "cell_type": "code",
      "execution_count": null,
      "metadata": {
        "colab": {
          "base_uri": "https://localhost:8080/"
        },
        "id": "MfrnRgOchQFZ",
        "outputId": "bc9416c1-5ebf-429a-a988-445684bae748"
      },
      "outputs": [],
      "source": [
        "from google.colab import drive\n",
        "drive.mount('/content/drive', force_remount=True)\n",
        "root_dir = '/content/drive/MyDrive'"
      ]
    },
    {
      "cell_type": "code",
      "execution_count": null,
      "metadata": {
        "id": "ccie4hjlhIuZ"
      },
      "outputs": [],
      "source": [
        "base_dir = root_dir + '/Painting/data/'\n",
        "data_folder = base_dir + 'raw/dataset/'\n",
        "train_folder = data_folder + 'train/'\n",
        "test_folder = data_folder + 'test/'"
      ]
    },
    {
      "cell_type": "markdown",
      "metadata": {
        "id": "sk_HXWV5aA0D"
      },
      "source": [
        "## Dataset\n",
        "\n",
        "We have to resize to (224,224) and to preprocess all the images to be readable from ResNet50."
      ]
    },
    {
      "cell_type": "code",
      "execution_count": null,
      "metadata": {
        "id": "cKydBk8GDLbL"
      },
      "outputs": [],
      "source": [
        "def preprocess_cv2_image_resnet(image):\n",
        "  #image = cv.imread(image_path)\n",
        "  image = cv.resize(image, (224, 224))\n",
        "  image =  cv.cvtColor(image, cv.COLOR_BGR2RGB)\n",
        "  image = Image.fromarray(image)\n",
        "  image = image_resnet.img_to_array(image)\n",
        "  image = np.expand_dims(image, axis = 0)\n",
        "  return preprocess_input_resnet(image)"
      ]
    },
    {
      "cell_type": "code",
      "execution_count": null,
      "metadata": {
        "id": "8ttyMHw6hA6a"
      },
      "outputs": [],
      "source": [
        "def preprocess_resnet(image):\n",
        "  image = cv.resize(image, (224, 224))\n",
        "  image =  cv.cvtColor(image, cv.COLOR_BGR2RGB)\n",
        "  image = Image.fromarray( (image * 255).astype(np.uint8) )\n",
        "  image = image_resnet.img_to_array(image)\n",
        "  #image = np.expand_dims(image, axis = 0)\n",
        "  image =  preprocess_input_resnet(image)\n",
        "\n",
        "  image = image * 255\n",
        "  image = image.astype(np.uint8)\n",
        "  return image"
      ]
    },
    {
      "cell_type": "code",
      "execution_count": null,
      "metadata": {
        "colab": {
          "base_uri": "https://localhost:8080/"
        },
        "id": "HcS5vto9gDV3",
        "outputId": "603e03a2-e326-4fb5-e824-34411d70424f"
      },
      "outputs": [],
      "source": [
        "image_path = train_folder + '29998.jpg'\n",
        "image = cv.imread(image_path)\n",
        "print( image.shape )\n",
        "image_p = preprocess_cv2_image_resnet(image)\n",
        "print( image_p.shape )\n",
        "image_p = preprocess_resnet(image)\n",
        "print( image_p.shape )"
      ]
    },
    {
      "cell_type": "code",
      "execution_count": null,
      "metadata": {
        "id": "etNgiYEyOXSV"
      },
      "outputs": [],
      "source": [
        "def dataframe_generator():\n",
        "  df = pd.read_csv(data_folder + \"all_data_info.csv\")\n",
        "  df.rename(columns={\"new_filename\": \"filename\"}, inplace=True)\n",
        "  df.drop(columns=[\"pixelsx\", \"pixelsy\", \"size_bytes\", \"artist_group\", \"source\"], inplace=True)\n",
        "  df.drop(columns=[\"artist\", \"style\", \"date\", \"title\"], inplace=True)\n",
        "  df.dropna(subset=[\"genre\"], inplace=True)\n",
        "  df.reset_index(drop=True, inplace=True)\n",
        "\n",
        "  # save memory \n",
        "  df[\"genre\"] = df[\"genre\"].astype(\"category\")\n",
        "\n",
        "  print(df.memory_usage(deep=True))\n",
        "  print(df.info())\n",
        "\n",
        "  df.reset_index(drop=True, inplace=True)\n",
        "  df.to_csv(data_folder + \"not_all_data_info.csv\")\n",
        "  return df"
      ]
    },
    {
      "cell_type": "code",
      "execution_count": null,
      "metadata": {
        "id": "45GnVNOyy39S"
      },
      "outputs": [],
      "source": [
        "#df = dataframe_generator() # To generate it\n",
        "df = pd.read_csv(data_folder + \"not_all_data_info.csv\") # We have it already"
      ]
    },
    {
      "cell_type": "code",
      "execution_count": null,
      "metadata": {
        "colab": {
          "base_uri": "https://localhost:8080/"
        },
        "id": "-tg74Nz3PCdN",
        "outputId": "cf846826-3225-4dc8-f1ac-476ac95fee3a"
      },
      "outputs": [],
      "source": [
        "pd.set_option('display.expand_frame_repr', False)\n",
        "print(df.columns)\n",
        "print(df.head())"
      ]
    },
    {
      "cell_type": "code",
      "execution_count": null,
      "metadata": {
        "id": "gP0j6AlAPmQ7"
      },
      "outputs": [],
      "source": [
        "def get_image_index(filename):\n",
        "  for index in range(df.shape[0]): #n_row\n",
        "    if( df[\"filename\"][index] == filename ):\n",
        "      return index\n",
        "  return -1"
      ]
    },
    {
      "cell_type": "code",
      "execution_count": null,
      "metadata": {
        "id": "Mz5uyjThPSNL"
      },
      "outputs": [],
      "source": [
        "def get_genre_by_filename(filename):\n",
        "  index = get_image_index(filename)\n",
        "  return df[\"genre\"][index] "
      ]
    },
    {
      "cell_type": "code",
      "execution_count": null,
      "metadata": {
        "colab": {
          "base_uri": "https://localhost:8080/"
        },
        "id": "9065MIRiXud-",
        "outputId": "2c2ddc04-c19e-43a8-fe44-90452cfdf3b3"
      },
      "outputs": [],
      "source": [
        "train_dir = os.path.join(data_folder, \"resized_train\")\n",
        "test_dir = os.path.join(data_folder, \"resized_test\")\n",
        "\n",
        "print(train_dir)\n",
        "print(test_dir)"
      ]
    },
    {
      "cell_type": "code",
      "execution_count": null,
      "metadata": {
        "id": "yvrEQX0tM1Q8"
      },
      "outputs": [],
      "source": [
        "def separate_image_in_folders(folder, save_folder_name):\n",
        "  save_folder = os.path.abspath(os.path.join(folder, os.pardir))\n",
        "  save_folder = os.path.join(save_folder, save_folder_name)\n",
        "\n",
        "  if not os.path.exists( save_folder ):\n",
        "    os.makedirs( save_folder )\n",
        "\n",
        "  N = len( os.listdir(folder) )\n",
        "  n_file = 0\n",
        "\n",
        "  for filename in os.listdir(folder):\n",
        "    img = cv.imread(os.path.join(folder,filename))\n",
        "    try:\n",
        "      img = cv.resize(img, (224, 224))\n",
        "    except Exception as e:\n",
        "      print(str(e))\n",
        "      print(\"Problem with image: \" +filename)\n",
        "      img = None\n",
        "\n",
        "\n",
        "    if n_file % 10 == 0:\n",
        "      clear_output(wait=True)\n",
        "      print(\"{} / {} \" .format(n_file, N))\n",
        "    n_file = n_file + 1 \n",
        "\n",
        "    if img is not None:\n",
        "      index = get_image_index(filename)\n",
        "      if index != -1:\n",
        "        genre = df[\"genre\"][index]\n",
        "        temp_path = os.path.join(save_folder, genre)\n",
        "        if not os.path.exists( temp_path ):\n",
        "          os.makedirs( temp_path )\n",
        "        cv.imwrite( os.path.join(temp_path, filename) , img)\n",
        "  \n",
        "  clear_output(wait=True)\n",
        "  print(\"{} / {} \" .format(N, N))\n",
        "  return True"
      ]
    },
    {
      "cell_type": "code",
      "execution_count": null,
      "metadata": {
        "id": "gLAR_flZNGEy"
      },
      "outputs": [],
      "source": [
        "#separate_image_in_folders( train_folder, \"refactored_train\") # 1:30h circa"
      ]
    },
    {
      "cell_type": "code",
      "execution_count": null,
      "metadata": {
        "colab": {
          "base_uri": "https://localhost:8080/"
        },
        "id": "f7ifkUfbki7y",
        "outputId": "4bdf56ec-9fb2-4c14-8098-f0a88ea8cb8d"
      },
      "outputs": [],
      "source": [
        "separate_image_in_folders( test_folder, \"refactored_test\") # 5h circa"
      ]
    },
    {
      "cell_type": "code",
      "execution_count": null,
      "metadata": {
        "id": "gJdh30-xMxWe"
      },
      "outputs": [],
      "source": [
        "train_dir = os.path.join(data_folder, \"refactored_train\")\n",
        "test_dir = os.path.join(data_folder, \"refactored_test\")"
      ]
    },
    {
      "cell_type": "code",
      "execution_count": null,
      "metadata": {
        "id": "24hnWiOAXj5p"
      },
      "outputs": [],
      "source": [
        "train_datagen = ImageDataGenerator(validation_split=0.1, \n",
        "                                   preprocessing_function=preprocess_resnet)\n",
        "\n",
        "test_datagen = ImageDataGenerator(preprocessing_function=preprocess_resnet)"
      ]
    },
    {
      "cell_type": "code",
      "execution_count": null,
      "metadata": {
        "colab": {
          "base_uri": "https://localhost:8080/",
          "height": 87
        },
        "id": "ekP69saEW6Bl",
        "outputId": "921e24b3-075d-4b07-f789-5c2467c1e298"
      },
      "outputs": [],
      "source": [
        "batch_size = 32\n",
        "\n",
        "num_classes = 42 #n_genre\n",
        "input_shape = (224, 224) #(224, 224, 3)\n",
        "\n",
        "train_generator = train_datagen.flow_from_directory(\n",
        "        train_dir,\n",
        "        target_size=input_shape,\n",
        "        color_mode='rgb',\n",
        "        batch_size=batch_size,\n",
        "        subset='training',\n",
        "        class_mode='sparse',\n",
        "        )\n",
        "\n",
        "validation_generator = train_datagen.flow_from_directory(\n",
        "        train_dir,\n",
        "        target_size=input_shape,\n",
        "        color_mode='rgb',\n",
        "        batch_size=batch_size,\n",
        "        subset='validation',\n",
        "        class_mode='sparse',\n",
        "        )\n",
        "\"\"\"\n",
        "test_generator = test_datagen.flow_from_directory(\n",
        "        test_dir,\n",
        "        target_size=input_shape,\n",
        "        color_mode='rgb',\n",
        "        batch_size=batch_size,\n",
        "        class_mode='categorical'\n",
        "        )\n",
        "\"\"\""
      ]
    },
    {
      "cell_type": "markdown",
      "metadata": {
        "id": "TaGQaBNesYgE"
      },
      "source": [
        "## Models"
      ]
    },
    {
      "cell_type": "code",
      "execution_count": null,
      "metadata": {
        "colab": {
          "base_uri": "https://localhost:8080/"
        },
        "id": "60bwoV3sJoBM",
        "outputId": "94d2ad98-ab2d-4c75-f32b-82727a24d70e"
      },
      "outputs": [],
      "source": [
        "base_model = ResNet50(weights='imagenet', include_top=False, input_tensor=Input(shape=(224, 224, 3)) )\n",
        "#base_model.summary()"
      ]
    },
    {
      "cell_type": "code",
      "execution_count": null,
      "metadata": {
        "id": "XBC8Ezf2Kzh_"
      },
      "outputs": [],
      "source": [
        "head_model = base_model.output\n",
        "head_model = AveragePooling2D(pool_size=(7, 7))(head_model)\n",
        "head_model = Flatten(name=\"flatten\")(head_model)\n",
        "head_model = Dense(256, activation=\"relu\")(head_model)\n",
        "head_model = Dropout(0.5)(head_model)\n",
        "head_model = Dense( num_classes , activation=\"softmax\")(head_model)"
      ]
    },
    {
      "cell_type": "code",
      "execution_count": null,
      "metadata": {
        "id": "sdPm5XQ7LijS"
      },
      "outputs": [],
      "source": [
        "model = Model(inputs=base_model.input, outputs=head_model)\n",
        "#model.summary()"
      ]
    },
    {
      "cell_type": "code",
      "execution_count": null,
      "metadata": {
        "id": "COef5zeRRuic"
      },
      "outputs": [],
      "source": [
        "for layer in base_model.layers:\n",
        "\tlayer.trainable = False"
      ]
    },
    {
      "cell_type": "code",
      "execution_count": null,
      "metadata": {
        "id": "LSb0odW7SHs1"
      },
      "outputs": [],
      "source": [
        "f1_micro = tfa.metrics.F1Score(num_classes=num_classes, average='micro') # Unbalanced\n",
        "f1_macro = tfa.metrics.F1Score(num_classes=num_classes, average='macro')"
      ]
    },
    {
      "cell_type": "code",
      "execution_count": null,
      "metadata": {
        "id": "RbQYSB6VR054"
      },
      "outputs": [],
      "source": [
        "# compile the model\n",
        "model.compile(loss=\"sparse_categorical_crossentropy\", #sparse_categorical_crossentropy # categorical_crossentropy\n",
        "              optimizer=\"adam\",\n",
        "              metrics=[\"accuracy\", f1_micro] )"
      ]
    },
    {
      "cell_type": "markdown",
      "metadata": {
        "id": "mwzXAX_faRXr"
      },
      "source": [
        "# Train"
      ]
    },
    {
      "cell_type": "code",
      "execution_count": null,
      "metadata": {
        "id": "kOgvu4i0TWUM"
      },
      "outputs": [],
      "source": [
        "# Train it on the data for some epochs\n",
        "epochs = 10\n",
        "\n",
        "history = model.fit(train_generator, epochs=epochs, validation_data=validation_generator)"
      ]
    },
    {
      "cell_type": "code",
      "execution_count": null,
      "metadata": {
        "id": "29-pgiN7VQ1B"
      },
      "outputs": [],
      "source": [
        "model.save(data_folder + 'resnet_finetuing_model')"
      ]
    },
    {
      "cell_type": "code",
      "execution_count": null,
      "metadata": {
        "id": "UDc6nB4vVdnk"
      },
      "outputs": [],
      "source": [
        "from matplotlib import pyplot as plt\n",
        "#x_plot = list(range(1,epochs+1))\n",
        "\n",
        "def plot_history(network_history):\n",
        "    epochs = len( history.history['loss'] )\n",
        "    x_plot = list(range(1,epochs+1))\n",
        "    \n",
        "    plt.figure()\n",
        "    plt.xlabel('Epochs')\n",
        "    plt.ylabel('Loss')\n",
        "    plt.plot(x_plot, network_history.history['loss'])\n",
        "    plt.plot(x_plot, network_history.history['val_loss'])\n",
        "    plt.legend(['Training', 'Validation'])\n",
        "\n",
        "    plt.figure()\n",
        "    plt.xlabel('Epochs')\n",
        "    plt.ylabel('Accuracy')\n",
        "    plt.plot(x_plot, network_history.history['accuracy'])\n",
        "    plt.plot(x_plot, network_history.history['val_accuracy'])\n",
        "    plt.legend(['Training', 'Validation'], loc='lower right')\n",
        "    plt.show()"
      ]
    },
    {
      "cell_type": "code",
      "execution_count": null,
      "metadata": {
        "id": "6P6Lz8tzVfMk"
      },
      "outputs": [],
      "source": [
        "plot_history(history)"
      ]
    },
    {
      "cell_type": "code",
      "execution_count": null,
      "metadata": {
        "id": "XcW6oDvoVgiR"
      },
      "outputs": [],
      "source": [
        "eval_result = model.evaluate(test_generator)\n",
        "print(\"[test loss, test accuracy]:\", eval_result)"
      ]
    },
    {
      "cell_type": "code",
      "execution_count": null,
      "metadata": {
        "id": "KspU6yFgVhsR"
      },
      "outputs": [],
      "source": [
        "test_pred = model.predict(test_generator)"
      ]
    },
    {
      "cell_type": "code",
      "execution_count": null,
      "metadata": {
        "id": "QrCdtRMrVj2P"
      },
      "outputs": [],
      "source": [
        "y_pred = []\n",
        "for pred in test_pred:\n",
        "  y_pred.append( np.argmax(pred) )"
      ]
    },
    {
      "cell_type": "code",
      "execution_count": null,
      "metadata": {
        "id": "WuJ9ztlqVk3g"
      },
      "outputs": [],
      "source": [
        "from sklearn.metrics import f1_score\n",
        "\n",
        "y_true = test_generator.labels\n",
        "\n",
        "f1_test = f1_score(y_true, y_pred, average='macro')\n",
        "print('Average f1_score: {} \\n' .format(f1_test) )\n",
        "\n",
        "print('F1-SCORE FOR EACH CLASS')\n",
        "print('-----------------------')\n",
        "av_f1_score = f1_score(y_true, y_pred, average=None)\n",
        "for i in range(len(av_f1_score)):\n",
        "  print('{} : {} '.format( i, av_f1_score[i]))"
      ]
    },
    {
      "cell_type": "code",
      "execution_count": null,
      "metadata": {
        "id": "sthzIJd7Vl_4"
      },
      "outputs": [],
      "source": [
        "from sklearn.metrics import confusion_matrix, ConfusionMatrixDisplay\n",
        "\n",
        "cm = confusion_matrix(y_true, y_pred)\n",
        "disp = ConfusionMatrixDisplay( confusion_matrix=cm )\n",
        "\n",
        "disp.plot()\n",
        "frame1 = plt.gca()\n",
        "frame1.axes.get_xaxis().set_visible(False)\n",
        "plt.show()"
      ]
    }
  ],
  "metadata": {
    "colab": {
      "collapsed_sections": [],
      "name": "ResNet50_train.ipynb",
      "provenance": []
    },
    "kernelspec": {
      "display_name": "Python 3",
      "name": "python3"
    },
    "language_info": {
      "codemirror_mode": {
        "name": "ipython",
        "version": 3
      },
      "file_extension": ".py",
      "mimetype": "text/x-python",
      "name": "python",
      "nbconvert_exporter": "python",
      "pygments_lexer": "ipython3",
      "version": "3.9.7"
    }
  },
  "nbformat": 4,
  "nbformat_minor": 0
}
